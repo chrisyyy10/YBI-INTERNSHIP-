{
  "metadata": {
    "kernelspec": {
      "language": "python",
      "display_name": "Python 3",
      "name": "python3"
    },
    "language_info": {
      "name": "python",
      "version": "3.10.13",
      "mimetype": "text/x-python",
      "codemirror_mode": {
        "name": "ipython",
        "version": 3
      },
      "pygments_lexer": "ipython3",
      "nbconvert_exporter": "python",
      "file_extension": ".py"
    },
    "kaggle": {
      "accelerator": "none",
      "dataSources": [],
      "dockerImageVersionId": 30732,
      "isInternetEnabled": false,
      "language": "python",
      "sourceType": "notebook",
      "isGpuEnabled": false
    },
    "colab": {
      "provenance": [],
      "include_colab_link": true
    }
  },
  "nbformat_minor": 0,
  "nbformat": 4,
  "cells": [
    {
      "cell_type": "markdown",
      "metadata": {
        "id": "view-in-github",
        "colab_type": "text"
      },
      "source": [
        "<a href=\"https://colab.research.google.com/github/chrisyyy10/YBI-INTERNSHIP-PROJECT/blob/main/SERVO_MOTOR.ipynb\" target=\"_parent\"><img src=\"https://colab.research.google.com/assets/colab-badge.svg\" alt=\"Open In Colab\"/></a>"
      ]
    },
    {
      "cell_type": "markdown",
      "source": [
        "# Servo Prediction using Linear Regression"
      ],
      "metadata": {
        "id": "IcV2nbHUpO2G"
      }
    },
    {
      "cell_type": "markdown",
      "source": [
        "# OBJECTIVE\n",
        "\n",
        "What Is Servo: In control engineering a servomechanism, usually shortened to servo, is an automatic device that uses error-sensing negative\n",
        "feedback to correct the action of a mechanism. On displacement-controlled applications, it usually includes a built-in encoder or other position\n",
        "feedback mechanism to ensure the output is achieving the desired effect. The term correctly applies only to systems where the feedback or\n",
        "error-correction signals help control mechanical position, speed, attitude or any other measurable variables. For example, an automotive power\n",
        "window control is not a servomechanism, as there is no automatic feedback that controls position-the operator does this by observation. By\n",
        "contrast a car's cruise control uses closed-loop feedback, which classifies it as a servomechanism.\n"
      ],
      "metadata": {
        "id": "6NAfal_PpO2K"
      }
    },
    {
      "cell_type": "markdown",
      "source": [
        "# Data Source\n",
        "\n",
        "A data frame with 167 observations on 5 variables, 4 nominal and 1 as the target class. This data set is from a simulation of a servo system\n",
        "involving a servo amplifier, a motor, a lead screw/nut, and a sliding carriage of some sort. It may have been on of the translational axes of a\n",
        "robot on the 9th floor of the Al lab. In any case, the output value is almost certainly a rise time, or the time required for the system to respond to\n",
        "a step change in a position set point. The variables that describe the data set and their values are the following:\n",
        "1. MOTOR A,B,C,D,E\n",
        "2. Screw A,B,C,D,E\n",
        "3. Pgain 3,4,5,6\n",
        "4. Vgain 1,2,3,4,5,6\n",
        "5. Class 0.13 to 7.10"
      ],
      "metadata": {
        "id": "p5RXWjL2pO2M"
      }
    },
    {
      "cell_type": "markdown",
      "source": [
        "# Import Library"
      ],
      "metadata": {
        "id": "Ie9FL5YKpO2N"
      }
    },
    {
      "cell_type": "code",
      "source": [
        "import pandas as pd\n",
        "import numpy as np"
      ],
      "metadata": {
        "execution": {
          "iopub.status.busy": "2024-07-10T12:37:24.409339Z",
          "iopub.execute_input": "2024-07-10T12:37:24.409766Z",
          "iopub.status.idle": "2024-07-10T12:37:24.417853Z",
          "shell.execute_reply.started": "2024-07-10T12:37:24.409735Z",
          "shell.execute_reply": "2024-07-10T12:37:24.416659Z"
        },
        "trusted": true,
        "id": "TTxX3_yupO2N"
      },
      "outputs": [],
      "execution_count": 1
    },
    {
      "cell_type": "markdown",
      "source": [
        "# Import Data"
      ],
      "metadata": {
        "id": "VSPZ48KYpO2P"
      }
    },
    {
      "cell_type": "code",
      "source": [
        "servo = pd.read_csv('/content/Servo Mechanism.csv')"
      ],
      "metadata": {
        "execution": {
          "iopub.status.busy": "2024-07-10T12:37:24.432499Z",
          "iopub.execute_input": "2024-07-10T12:37:24.432882Z",
          "iopub.status.idle": "2024-07-10T12:37:24.751118Z",
          "shell.execute_reply.started": "2024-07-10T12:37:24.432854Z",
          "shell.execute_reply": "2024-07-10T12:37:24.749926Z"
        },
        "trusted": true,
        "id": "YhtejD7JpO2Q"
      },
      "outputs": [],
      "execution_count": 2
    },
    {
      "cell_type": "code",
      "source": [
        "servo.shape"
      ],
      "metadata": {
        "execution": {
          "iopub.status.busy": "2024-07-10T12:37:24.752999Z",
          "iopub.execute_input": "2024-07-10T12:37:24.753358Z",
          "iopub.status.idle": "2024-07-10T12:37:24.760583Z",
          "shell.execute_reply.started": "2024-07-10T12:37:24.753327Z",
          "shell.execute_reply": "2024-07-10T12:37:24.759441Z"
        },
        "trusted": true,
        "id": "Dwfi3VttpO2Q",
        "colab": {
          "base_uri": "https://localhost:8080/"
        },
        "outputId": "8b8b897d-f46f-4a8d-9065-6a90cbf07f91"
      },
      "outputs": [
        {
          "output_type": "execute_result",
          "data": {
            "text/plain": [
              "(167, 5)"
            ]
          },
          "metadata": {},
          "execution_count": 3
        }
      ],
      "execution_count": 3
    },
    {
      "cell_type": "code",
      "source": [
        "servo.columns"
      ],
      "metadata": {
        "execution": {
          "iopub.status.busy": "2024-07-10T12:37:24.761994Z",
          "iopub.execute_input": "2024-07-10T12:37:24.762416Z",
          "iopub.status.idle": "2024-07-10T12:37:24.775734Z",
          "shell.execute_reply.started": "2024-07-10T12:37:24.762363Z",
          "shell.execute_reply": "2024-07-10T12:37:24.774226Z"
        },
        "trusted": true,
        "id": "RCd9MfaNpO2R",
        "colab": {
          "base_uri": "https://localhost:8080/"
        },
        "outputId": "6c9a3c8f-8e3e-41b6-936a-921928ce1b80"
      },
      "outputs": [
        {
          "output_type": "execute_result",
          "data": {
            "text/plain": [
              "Index(['Motor', 'Screw', 'Pgain', 'Vgain', 'Class'], dtype='object')"
            ]
          },
          "metadata": {},
          "execution_count": 4
        }
      ],
      "execution_count": 4
    },
    {
      "cell_type": "markdown",
      "source": [
        "# Define Target Variable (y) and Feature Variables (X)"
      ],
      "metadata": {
        "id": "GXK09uy9pO2R"
      }
    },
    {
      "cell_type": "code",
      "source": [
        "servo.replace({'Motor':{'A':0, 'B':1, 'C':2, 'D':3, 'E':4}},inplace=True)\n",
        "servo.replace({'Screw':{'A':0, 'B':1, 'C':2, 'D':3, 'E':4}},inplace=True)"
      ],
      "metadata": {
        "execution": {
          "iopub.status.busy": "2024-07-10T12:37:24.778758Z",
          "iopub.execute_input": "2024-07-10T12:37:24.779163Z",
          "iopub.status.idle": "2024-07-10T12:37:24.791856Z",
          "shell.execute_reply.started": "2024-07-10T12:37:24.779129Z",
          "shell.execute_reply": "2024-07-10T12:37:24.790494Z"
        },
        "trusted": true,
        "id": "f-8TrnxmpO2S",
        "colab": {
          "base_uri": "https://localhost:8080/"
        },
        "outputId": "b3c876bd-49db-4c24-abe0-0e81d1daa786"
      },
      "outputs": [
        {
          "output_type": "stream",
          "name": "stderr",
          "text": [
            "<ipython-input-5-064898005eb4>:1: FutureWarning: Downcasting behavior in `replace` is deprecated and will be removed in a future version. To retain the old behavior, explicitly call `result.infer_objects(copy=False)`. To opt-in to the future behavior, set `pd.set_option('future.no_silent_downcasting', True)`\n",
            "  servo.replace({'Motor':{'A':0, 'B':1, 'C':2, 'D':3, 'E':4}},inplace=True)\n",
            "<ipython-input-5-064898005eb4>:2: FutureWarning: Downcasting behavior in `replace` is deprecated and will be removed in a future version. To retain the old behavior, explicitly call `result.infer_objects(copy=False)`. To opt-in to the future behavior, set `pd.set_option('future.no_silent_downcasting', True)`\n",
            "  servo.replace({'Screw':{'A':0, 'B':1, 'C':2, 'D':3, 'E':4}},inplace=True)\n"
          ]
        }
      ],
      "execution_count": 5
    },
    {
      "cell_type": "code",
      "source": [
        "y = servo['Class']\n",
        "X = servo[['Motor', 'Screw', 'Pgain', 'Vgain']]"
      ],
      "metadata": {
        "execution": {
          "iopub.status.busy": "2024-07-10T12:37:24.793609Z",
          "iopub.execute_input": "2024-07-10T12:37:24.794186Z",
          "iopub.status.idle": "2024-07-10T12:37:24.805141Z",
          "shell.execute_reply.started": "2024-07-10T12:37:24.794146Z",
          "shell.execute_reply": "2024-07-10T12:37:24.803835Z"
        },
        "trusted": true,
        "id": "nj1TUv7GpO2T"
      },
      "outputs": [],
      "execution_count": 6
    },
    {
      "cell_type": "code",
      "source": [
        "from sklearn.model_selection import train_test_split\n",
        "X_train, X_test, y_train, y_test = train_test_split(X,y, test_size=0.3, random_state=2529)"
      ],
      "metadata": {
        "execution": {
          "iopub.status.busy": "2024-07-10T12:37:24.806569Z",
          "iopub.execute_input": "2024-07-10T12:37:24.806923Z",
          "iopub.status.idle": "2024-07-10T12:37:24.819884Z",
          "shell.execute_reply.started": "2024-07-10T12:37:24.806895Z",
          "shell.execute_reply": "2024-07-10T12:37:24.818822Z"
        },
        "trusted": true,
        "id": "N5yYBPEWpO2U"
      },
      "outputs": [],
      "execution_count": 7
    },
    {
      "cell_type": "code",
      "source": [
        "X_train.shape"
      ],
      "metadata": {
        "execution": {
          "iopub.status.busy": "2024-07-10T12:37:24.821522Z",
          "iopub.execute_input": "2024-07-10T12:37:24.821972Z",
          "iopub.status.idle": "2024-07-10T12:37:24.834507Z",
          "shell.execute_reply.started": "2024-07-10T12:37:24.821933Z",
          "shell.execute_reply": "2024-07-10T12:37:24.833444Z"
        },
        "trusted": true,
        "id": "V3KMbDdXpO2U",
        "colab": {
          "base_uri": "https://localhost:8080/"
        },
        "outputId": "b228ab9c-7d34-4008-ff7a-0541eb71e3e8"
      },
      "outputs": [
        {
          "output_type": "execute_result",
          "data": {
            "text/plain": [
              "(116, 4)"
            ]
          },
          "metadata": {},
          "execution_count": 8
        }
      ],
      "execution_count": 8
    },
    {
      "cell_type": "code",
      "source": [
        " X_test.shape"
      ],
      "metadata": {
        "execution": {
          "iopub.status.busy": "2024-07-10T12:37:24.836119Z",
          "iopub.execute_input": "2024-07-10T12:37:24.836564Z",
          "iopub.status.idle": "2024-07-10T12:37:24.85213Z",
          "shell.execute_reply.started": "2024-07-10T12:37:24.836526Z",
          "shell.execute_reply": "2024-07-10T12:37:24.850745Z"
        },
        "trusted": true,
        "id": "IpJFUJT2pO2U",
        "colab": {
          "base_uri": "https://localhost:8080/"
        },
        "outputId": "fceef39f-f98b-4de2-b51a-1685aad095f9"
      },
      "outputs": [
        {
          "output_type": "execute_result",
          "data": {
            "text/plain": [
              "(51, 4)"
            ]
          },
          "metadata": {},
          "execution_count": 9
        }
      ],
      "execution_count": 9
    },
    {
      "cell_type": "code",
      "source": [
        " y_train.shape"
      ],
      "metadata": {
        "execution": {
          "iopub.status.busy": "2024-07-10T12:37:24.853443Z",
          "iopub.execute_input": "2024-07-10T12:37:24.853826Z",
          "iopub.status.idle": "2024-07-10T12:37:24.867469Z",
          "shell.execute_reply.started": "2024-07-10T12:37:24.853798Z",
          "shell.execute_reply": "2024-07-10T12:37:24.865992Z"
        },
        "trusted": true,
        "id": "Rszx3f6rpO2V",
        "colab": {
          "base_uri": "https://localhost:8080/"
        },
        "outputId": "94705976-289e-4da7-e2ff-ab64e3240c4b"
      },
      "outputs": [
        {
          "output_type": "execute_result",
          "data": {
            "text/plain": [
              "(116,)"
            ]
          },
          "metadata": {},
          "execution_count": 10
        }
      ],
      "execution_count": 10
    },
    {
      "cell_type": "code",
      "source": [
        " y_test.shape"
      ],
      "metadata": {
        "execution": {
          "iopub.status.busy": "2024-07-10T12:37:24.870572Z",
          "iopub.execute_input": "2024-07-10T12:37:24.87095Z",
          "iopub.status.idle": "2024-07-10T12:37:24.879119Z",
          "shell.execute_reply.started": "2024-07-10T12:37:24.870902Z",
          "shell.execute_reply": "2024-07-10T12:37:24.877866Z"
        },
        "trusted": true,
        "id": "w1Ws7jtApO2V",
        "colab": {
          "base_uri": "https://localhost:8080/"
        },
        "outputId": "d1916f81-35a2-4502-f65b-3fa50d3b13bc"
      },
      "outputs": [
        {
          "output_type": "execute_result",
          "data": {
            "text/plain": [
              "(51,)"
            ]
          },
          "metadata": {},
          "execution_count": 11
        }
      ],
      "execution_count": 11
    },
    {
      "cell_type": "code",
      "source": [
        "from sklearn.linear_model import LinearRegression"
      ],
      "metadata": {
        "execution": {
          "iopub.status.busy": "2024-07-10T12:37:24.880816Z",
          "iopub.execute_input": "2024-07-10T12:37:24.8817Z",
          "iopub.status.idle": "2024-07-10T12:37:24.891183Z",
          "shell.execute_reply.started": "2024-07-10T12:37:24.881664Z",
          "shell.execute_reply": "2024-07-10T12:37:24.889498Z"
        },
        "trusted": true,
        "id": "NuF6PqILpO2V"
      },
      "outputs": [],
      "execution_count": 12
    },
    {
      "cell_type": "markdown",
      "source": [
        "# Prediction"
      ],
      "metadata": {
        "id": "UARpF6lopO2V"
      }
    },
    {
      "cell_type": "code",
      "source": [
        "lr = LinearRegression()\n",
        "lr.fit(X_train, y_train)\n",
        "y_pred = lr.predict(X_test)"
      ],
      "metadata": {
        "execution": {
          "iopub.status.busy": "2024-07-10T12:37:24.892997Z",
          "iopub.execute_input": "2024-07-10T12:37:24.893383Z",
          "iopub.status.idle": "2024-07-10T12:37:24.935949Z",
          "shell.execute_reply.started": "2024-07-10T12:37:24.893349Z",
          "shell.execute_reply": "2024-07-10T12:37:24.934483Z"
        },
        "trusted": true,
        "id": "FQQp9_0LpO2W"
      },
      "outputs": [],
      "execution_count": 13
    },
    {
      "cell_type": "code",
      "source": [
        "y_pred"
      ],
      "metadata": {
        "execution": {
          "iopub.status.busy": "2024-07-10T12:38:16.387464Z",
          "iopub.execute_input": "2024-07-10T12:38:16.387848Z",
          "iopub.status.idle": "2024-07-10T12:38:16.395369Z",
          "shell.execute_reply.started": "2024-07-10T12:38:16.387819Z",
          "shell.execute_reply": "2024-07-10T12:38:16.394225Z"
        },
        "trusted": true,
        "id": "qv2LNntDpO2W",
        "colab": {
          "base_uri": "https://localhost:8080/"
        },
        "outputId": "3763306f-f615-413e-ecc9-5781b2b22e70"
      },
      "outputs": [
        {
          "output_type": "execute_result",
          "data": {
            "text/plain": [
              "array([24.55945258, 30.98765106, 18.54485477, 25.51524243, 38.56082023,\n",
              "       23.52007775, 11.61947065, 20.03335614, 40.60404401, 41.7009556 ,\n",
              "       13.66269443, 26.01242807, 16.50163099, 16.54663453, 21.92598051,\n",
              "       22.52570646, -5.46449561, 30.68912392, 32.7323477 ,  1.41282941,\n",
              "       33.97718702, 31.63543611, 33.52806048, 30.04133887, 19.38557109,\n",
              "        6.49364826, 28.5528375 , 17.04382017, 25.06611589,  3.50411229,\n",
              "       30.59606128, 23.67067716, 35.72188367, 32.08456265, 12.46018697,\n",
              "        3.6547117 , 23.47201865, 33.03087484, 17.49294672, 37.61450804,\n",
              "       27.54898855, 22.07657992, 11.51387478,  9.470651  , 30.53852451,\n",
              "       28.64590014, 33.67865989,  4.60102388, 24.1198037 , 21.13026773,\n",
              "       25.71390094])"
            ]
          },
          "metadata": {},
          "execution_count": 14
        }
      ],
      "execution_count": 14
    },
    {
      "cell_type": "markdown",
      "source": [
        "# Model Evaluation"
      ],
      "metadata": {
        "id": "1IQq4OrWpO2W"
      }
    },
    {
      "cell_type": "code",
      "source": [
        "from sklearn.metrics import mean_squared_error, mean_absolute_error, r2_score\n",
        "mean_squared_error(y_test, y_pred)"
      ],
      "metadata": {
        "execution": {
          "iopub.status.busy": "2024-07-10T12:39:27.62751Z",
          "iopub.execute_input": "2024-07-10T12:39:27.62808Z",
          "iopub.status.idle": "2024-07-10T12:39:27.637461Z",
          "shell.execute_reply.started": "2024-07-10T12:39:27.628039Z",
          "shell.execute_reply": "2024-07-10T12:39:27.636372Z"
        },
        "trusted": true,
        "id": "TY-LDfkmpO2X",
        "colab": {
          "base_uri": "https://localhost:8080/"
        },
        "outputId": "87737cbf-9e4b-40c4-cc6b-a810efdcc2ce"
      },
      "outputs": [
        {
          "output_type": "execute_result",
          "data": {
            "text/plain": [
              "66.03589175595563"
            ]
          },
          "metadata": {},
          "execution_count": 15
        }
      ],
      "execution_count": 15
    },
    {
      "cell_type": "code",
      "source": [
        "mean_absolute_error(y_test, y_pred)"
      ],
      "metadata": {
        "execution": {
          "iopub.status.busy": "2024-07-10T12:39:38.473688Z",
          "iopub.execute_input": "2024-07-10T12:39:38.47409Z",
          "iopub.status.idle": "2024-07-10T12:39:38.482366Z",
          "shell.execute_reply.started": "2024-07-10T12:39:38.474059Z",
          "shell.execute_reply": "2024-07-10T12:39:38.480919Z"
        },
        "trusted": true,
        "id": "Qj1K7lYlpO2X",
        "colab": {
          "base_uri": "https://localhost:8080/"
        },
        "outputId": "343ebae3-efb9-44e4-d8ab-d0f2aefd685f"
      },
      "outputs": [
        {
          "output_type": "execute_result",
          "data": {
            "text/plain": [
              "7.190539677251235"
            ]
          },
          "metadata": {},
          "execution_count": 16
        }
      ],
      "execution_count": 16
    },
    {
      "cell_type": "code",
      "source": [
        "r2_score(y_test, y_pred)"
      ],
      "metadata": {
        "execution": {
          "iopub.status.busy": "2024-07-10T12:39:51.806533Z",
          "iopub.execute_input": "2024-07-10T12:39:51.806917Z",
          "iopub.status.idle": "2024-07-10T12:39:51.815259Z",
          "shell.execute_reply.started": "2024-07-10T12:39:51.806891Z",
          "shell.execute_reply": "2024-07-10T12:39:51.81408Z"
        },
        "trusted": true,
        "id": "hFWC-PZjpO2X",
        "colab": {
          "base_uri": "https://localhost:8080/"
        },
        "outputId": "0733a2ca-ece7-4716-d0aa-2a1b96f2e380"
      },
      "outputs": [
        {
          "output_type": "execute_result",
          "data": {
            "text/plain": [
              "0.6807245170563927"
            ]
          },
          "metadata": {},
          "execution_count": 17
        }
      ],
      "execution_count": 17
    },
    {
      "cell_type": "code",
      "source": [],
      "metadata": {
        "id": "clWmDD0fpO2Y"
      },
      "outputs": [],
      "execution_count": 17
    }
  ]
}